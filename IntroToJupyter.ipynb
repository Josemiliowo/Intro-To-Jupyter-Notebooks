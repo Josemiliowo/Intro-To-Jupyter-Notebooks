{
 "cells": [
  {
   "cell_type": "markdown",
   "id": "1df63ace-36d2-4ba2-9699-1e17e22d4d0d",
   "metadata": {},
   "source": [
    "# Bienvenidos a Jupyter Notebook!\n",
    "\n",
    "Jupyter es una instancia de python que les permite correr código de Python3 por bloques, dejándoles ver con más claridad como corre su código línea por línea o bloque por bloque.\n",
    "\n",
    "Para esta _primera tarea_ tienen que ser capaces de abrir este documento en su computadora y correr cada uno de los bloques y escribir en un Docs los resultados de cada bloque y ver si se dan cuenta de que está pasando!"
   ]
  },
  {
   "cell_type": "code",
   "execution_count": null,
   "id": "7e147d15-1288-4de7-840e-afe71c20a36b",
   "metadata": {},
   "outputs": [],
   "source": [
    "a = 10"
   ]
  },
  {
   "cell_type": "code",
   "execution_count": null,
   "id": "69a76b14-3ec2-4cb2-b932-0650b6eddcfd",
   "metadata": {},
   "outputs": [],
   "source": [
    "b = 15"
   ]
  },
  {
   "cell_type": "code",
   "execution_count": null,
   "id": "5e7740b4-4908-4b1c-9742-c077f826d1f6",
   "metadata": {},
   "outputs": [],
   "source": [
    "b"
   ]
  },
  {
   "cell_type": "code",
   "execution_count": null,
   "id": "fa695dd9-8e57-4ffb-82b9-d77febb756b7",
   "metadata": {},
   "outputs": [],
   "source": [
    "a+b"
   ]
  },
  {
   "cell_type": "code",
   "execution_count": null,
   "id": "29d0edad-1f67-43fb-8e06-e4da23f88b31",
   "metadata": {},
   "outputs": [],
   "source": [
    "c = a+b\n",
    "c"
   ]
  },
  {
   "cell_type": "markdown",
   "id": "b73cce55-c9fd-42cc-96ea-4f748d90cf09",
   "metadata": {},
   "source": [
    "Otra cosa interesante, es que hay una importancia en que orden corres los bloques, por ejemplo, si hubieran querido correr el tercer bloque antes de correr el segundo, tendrían un error.\n",
    "\n",
    "Intenten correr el bloque de aqui abajo, y vuelvan a correr el quinto, verán que cambió, pero ahora vuelvan a correr el segundo y luego el quinto otra vez: ¿que sucede?"
   ]
  },
  {
   "cell_type": "code",
   "execution_count": null,
   "id": "ea1f358e-7b7d-47e0-b979-0e7fb630ae09",
   "metadata": {},
   "outputs": [],
   "source": [
    "b = 20"
   ]
  }
 ],
 "metadata": {
  "kernelspec": {
   "display_name": "Python 3 (ipykernel)",
   "language": "python",
   "name": "python3"
  },
  "language_info": {
   "codemirror_mode": {
    "name": "ipython",
    "version": 3
   },
   "file_extension": ".py",
   "mimetype": "text/x-python",
   "name": "python",
   "nbconvert_exporter": "python",
   "pygments_lexer": "ipython3",
   "version": "3.13.3"
  }
 },
 "nbformat": 4,
 "nbformat_minor": 5
}
